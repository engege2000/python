{
 "cells": [
  {
   "cell_type": "markdown",
   "id": "f0dda5ef-bccc-4c8e-ac58-0cb5a13750bd",
   "metadata": {},
   "source": [
    "jupyter notebook安装方式\n",
    "1、键盘上输入win+r，然后输入cmd,回车\n",
    "2、输入pip install -i https://pypi.tuna.tsinghua.edu.cn/simple jupyter notebook,回车\n",
    "3、输入py -m notebook，回车"
   ]
  },
  {
   "cell_type": "code",
   "execution_count": 1,
   "id": "89d85b4b-7041-4f99-a2bb-d6162e1758ea",
   "metadata": {},
   "outputs": [
    {
     "name": "stdout",
     "output_type": "stream",
     "text": [
      "hello world\n"
     ]
    }
   ],
   "source": [
    "print('hello world')"
   ]
  },
  {
   "cell_type": "markdown",
   "id": "c5b687a7-8214-4fa7-96c5-82f0198b6c1b",
   "metadata": {},
   "source": [
    "#1.1 **Python 的基本数据类型**"
   ]
  },
  {
   "cell_type": "markdown",
   "id": "73f1f347-ed7f-41c2-b14a-8fcf9594f366",
   "metadata": {},
   "source": [
    "##1.1.1字符串"
   ]
  },
  {
   "cell_type": "markdown",
   "id": "c247b164-d2b8-4d73-aeec-e9b0a870954b",
   "metadata": {},
   "source": [
    "字符串英文 string ，是 python 中随处可见的数据类型，字符串的识别也非常的简单，就是用「引号」括起来的。\n",
    "\r\n",
    "引号包括单引号 ' ' ，双引号 \" \" 和 三引号 ''' ''' ，比如 'abc' ，\"123\" 等等。"
   ]
  },
  {
   "cell_type": "code",
   "execution_count": 2,
   "id": "0fdad564-355e-4ccc-9f6e-8c6921aa9634",
   "metadata": {},
   "outputs": [],
   "source": [
    "str1='你好'\n",
    "str2=\"'你'好\"\n",
    "str3='''你\n",
    "        好'''"
   ]
  },
  {
   "cell_type": "markdown",
   "id": "343d8f58-fb66-4705-b2a9-1625577813f7",
   "metadata": {},
   "source": [
    "##1.1.2整型"
   ]
  },
  {
   "cell_type": "markdown",
   "id": "150b0aa0-48ba-4276-8862-8a2ccc50aba5",
   "metadata": {},
   "source": [
    "整数英文为 integer 。代码中的整数跟我们平常认识的整数一样，包括正整数、负整数和零，是没有小数点的数字。\n",
    "\r\n",
    "Python 可以处理任意大小的整数，例如：1，100，-8080，0，等等。"
   ]
  },
  {
   "cell_type": "code",
   "execution_count": null,
   "id": "684fd83f-d316-4d90-872d-4e9785bd3ed8",
   "metadata": {},
   "outputs": [],
   "source": [
    "int1=100\n",
    "int2=200\n",
    "int='100'\n",
    "int12=int1+int2"
   ]
  },
  {
   "cell_type": "markdown",
   "id": "ca41accb-df7a-4ba8-98da-e9be89c23b16",
   "metadata": {},
   "source": [
    "##1.1.3浮点型"
   ]
  },
  {
   "cell_type": "markdown",
   "id": "1a8fc5c0-9cbf-4ccf-9c14-329dd309f2fe",
   "metadata": {},
   "source": [
    "浮点数的英文名是 float ，是指带小数的数字。"
   ]
  },
  {
   "cell_type": "code",
   "execution_count": null,
   "id": "aeeafd24-359f-4c09-82eb-3eae82236541",
   "metadata": {},
   "outputs": [],
   "source": [
    "flo=3.1415926\n",
    "new_flo1=round(flo,3)\n",
    "new_flo2=format(flo,'.3f')\n",
    "new_flo3='%.3f'%flo"
   ]
  },
  {
   "cell_type": "markdown",
   "id": "b1d3e6de-86ab-481e-8a2a-b5254e539d93",
   "metadata": {},
   "source": [
    "##1.1.4布尔值"
   ]
  },
  {
   "cell_type": "markdown",
   "id": "225febec-0544-4879-9c81-4a8852306a45",
   "metadata": {},
   "source": [
    "一个布尔值只有 True 、 False 两种值，要么是 True，要么是 False，在 Python 中，可以直接用 True、False 表示布尔值（请注意大小写），也可以通过布尔运算计算出来。\r\n",
    "布尔值可以用 and、or 和 not 运算。\r\n",
    "and 运算是与运算，只有所有都为 True，and 运算结果才是 True。\r\n",
    "or 运算是或运算，只要其中有一个为 True，or 运算结果就是 True。\r\n",
    "not 运算是非运算，它是一个单目运算符，把 True 变成 False，False 变成 True。"
   ]
  },
  {
   "cell_type": "markdown",
   "id": "125d06a4-2cf5-41fe-a305-cce8289bb175",
   "metadata": {},
   "source": [
    "True 、 False在进行数学计算时分别取值为1和0"
   ]
  },
  {
   "cell_type": "code",
   "execution_count": 5,
   "id": "b8d8d697-0a4f-4c9f-8d6b-c08d3c1f176a",
   "metadata": {},
   "outputs": [],
   "source": [
    "bo1='hello'=='hello'\n",
    "bo2='hello'=='Hello'\n",
    "bo3=1==1"
   ]
  },
  {
   "cell_type": "code",
   "execution_count": 7,
   "id": "4982a6a4-6bcf-47e7-99a0-a64d66454c5e",
   "metadata": {},
   "outputs": [
    {
     "data": {
      "text/plain": [
       "False"
      ]
     },
     "execution_count": 7,
     "metadata": {},
     "output_type": "execute_result"
    }
   ],
   "source": [
    "bo2"
   ]
  },
  {
   "cell_type": "code",
   "execution_count": null,
   "id": "44defbce-6cc0-4c8f-8db8-1384a332e29e",
   "metadata": {},
   "outputs": [],
   "source": [
    "new_bo1=bo1 and bo2\n",
    "new_bo2=bo1 and bo3\n",
    "new_bo3=bo1 or bo2\n",
    "new_bo4=not new_bo3\n",
    "new_bo5=new_bo1+new_bo2+new_bo3+new_bo4"
   ]
  },
  {
   "cell_type": "markdown",
   "id": "7fcf32c5-1750-46ae-916c-8d7c854573ab",
   "metadata": {},
   "source": [
    "#1.2 **Python 的变量**"
   ]
  },
  {
   "cell_type": "markdown",
   "id": "8c9ace29-3f39-4f1c-aa79-eae14e535d46",
   "metadata": {},
   "source": [
    "##1.2.1变量的指向"
   ]
  },
  {
   "cell_type": "code",
   "execution_count": null,
   "id": "d178e9f1-8163-4241-aa0b-aa1dfb164c96",
   "metadata": {},
   "outputs": [],
   "source": [
    "a='你好'\n",
    "b=a\n",
    "a='hello'"
   ]
  },
  {
   "cell_type": "markdown",
   "id": "8338fa68-e7bb-41dc-8dc7-8426ad1c162f",
   "metadata": {},
   "source": [
    "###1.2.2多变量赋值"
   ]
  },
  {
   "cell_type": "code",
   "execution_count": null,
   "id": "8827ea35-536f-4879-95a5-62d1903d564d",
   "metadata": {},
   "outputs": [],
   "source": [
    "a, b, c = 1, 2, \"liangdianshui\""
   ]
  },
  {
   "cell_type": "markdown",
   "id": "9d75febe-3ede-47b2-95a4-c4a61661a4f8",
   "metadata": {},
   "source": [
    "#1.3**列表**"
   ]
  },
  {
   "cell_type": "markdown",
   "id": "ba2e6283-b6d2-4062-bccb-e672dba72ee1",
   "metadata": {},
   "source": [
    "List （列表）是 Python 内置的一种数据类型。 它是一种有序可变的集合，可以随时添加和删除其中的元素。\n",
    "列表就是用中括号 [] 括起来的数据，里面的每一个数据就叫做元素。每个元素之间使用逗号分隔。\r\n",
    "而且列表的数据元素不一定是相同的数据类型。"
   ]
  },
  {
   "cell_type": "code",
   "execution_count": null,
   "id": "4d035d91-79b0-4564-b86d-05214118399e",
   "metadata": {},
   "outputs": [],
   "source": [
    "list1=['你好','hello',123,True]"
   ]
  },
  {
   "cell_type": "markdown",
   "id": "b14e280a-7fdb-43fb-9b15-ece7ccafa261",
   "metadata": {},
   "source": [
    "##1.3.1列表的索引"
   ]
  },
  {
   "cell_type": "markdown",
   "id": "d928f6bc-7084-4987-8fbd-05788f7180d0",
   "metadata": {},
   "source": [
    "我们可以通过索引的方式进行提取列表中的数据，但请注意，Python中的索引是从0开始的（从左向右），也可以从-1开始（从右向左），并且是左开右闭"
   ]
  },
  {
   "cell_type": "code",
   "execution_count": null,
   "id": "6bb0f625-e6be-4337-ab1a-810c8a3e559b",
   "metadata": {},
   "outputs": [],
   "source": [
    "num1=list1[0]\n",
    "num2=list1[0:2]\n",
    "num3=list1[-2]"
   ]
  },
  {
   "cell_type": "markdown",
   "id": "62b8ab14-5cf1-4637-88e0-3688bd4dcadf",
   "metadata": {},
   "source": [
    "##1.3.2列表的修改"
   ]
  },
  {
   "cell_type": "markdown",
   "id": "f5617361-1f1e-43ed-b0b3-d3f528142145",
   "metadata": {},
   "source": [
    "通过索引对列表的数据项进行修改或更新，也可以使用 append() 方法来添加列表项"
   ]
  },
  {
   "cell_type": "code",
   "execution_count": null,
   "id": "797bbc90-b80b-489e-9a59-b4634e8c4f93",
   "metadata": {},
   "outputs": [],
   "source": [
    "list1[1]='Hello'"
   ]
  },
  {
   "cell_type": "code",
   "execution_count": null,
   "id": "0013378f-d1cb-45af-b827-207d205bd604",
   "metadata": {},
   "outputs": [],
   "source": [
    "list1.append('泥嚎')"
   ]
  },
  {
   "cell_type": "markdown",
   "id": "d5a817f5-719b-480f-8b49-72dfae31e5fa",
   "metadata": {},
   "source": [
    "![列表方法](列表方法.png)"
   ]
  },
  {
   "cell_type": "markdown",
   "id": "c4fadc8f-00b0-4f06-9901-464c4653f700",
   "metadata": {},
   "source": [
    "##1.3.3列表举例（有空可看）"
   ]
  },
  {
   "cell_type": "code",
   "execution_count": null,
   "id": "0d978fc2-4df5-4d1d-ae78-3228cfca2f83",
   "metadata": {},
   "outputs": [],
   "source": [
    "#-*-coding:utf-8-*-\n",
    "#-----------------------list的使用----------------------------------\n",
    "# 1.一个产品，需要列出产品的用户，这时候就可以使用一个 list 来表示\n",
    "user=['liangdianshui','twowater','两点水']\n",
    "print('1.产品用户')\n",
    "print(user)\n",
    "# 2.如果需要统计有多少个用户，这时候 len() 函数可以获的 list 里元素的个数\n",
    "len(user)\n",
    "print('\\n2.统计有多少个用户')\n",
    "print(len(user))\n",
    "# 3.此时，如果需要知道具体的用户呢？可以用过索引来访问 list 中每一个位置的元素，索引是0从开始的\n",
    "print('\\n3.查看具体的用户')\n",
    "print(user[0]+','+user[1]+','+user[2])\n",
    "# 4.突然来了一个新的用户，这时我们需要在原有的 list 末尾加一个用户\n",
    "user.append('茵茵')\n",
    "print('\\n4.在末尾添加新用户')\n",
    "print(user)\n",
    "# 5.又新增了一个用户，可是这个用户是 VIP 级别的学生，需要放在第一位，可以通过 insert 方法插入到指定的位置\n",
    "# 注意：插入数据的时候注意是否越界，索引不能超过 len(user)-1\n",
    "user.insert(0,'VIP用户')\n",
    "print('\\n5.指定位置添加用户')\n",
    "print(user)\n",
    "# 6.突然发现之前弄错了，“茵茵”就是'VIP用户'，因此，需要删除“茵茵”；pop() 删除 list 末尾的元素\n",
    "user.pop()\n",
    "print('\\n6.删除末尾用户')\n",
    "print(user)\n",
    "# 7.过了一段时间，用户“liangdianshui”不玩这个产品，删除了账号\n",
    "# 因此需要要删除指定位置的元素，用pop(i)方法，其中i是索引位置\n",
    "user.pop(1)\n",
    "print('\\n7.删除指定位置的list元素')\n",
    "print(user)\n",
    "# 8.用户“两点水”想修改自己的昵称了\n",
    "user[2]='三点水'\n",
    "print('\\n8.把某个元素替换成别的元素')\n",
    "print(user)\n",
    "# 9.单单保存用户昵称好像不够好，最好把账号也放进去\n",
    "# 这里账号是整数类型，跟昵称的字符串类型不同，不过 list 里面的元素的数据类型是可以不同的\n",
    "# 而且 list 元素也可以是另一个 list\n",
    "newUser=[['VIP用户',11111],['twowater',22222],['三点水',33333]]\n",
    "print('\\n9.不同元素类型的list数据')\n",
    "print(newUser)"
   ]
  },
  {
   "cell_type": "markdown",
   "id": "e717ed9c-3573-4ec1-84e2-36081117af7b",
   "metadata": {},
   "source": [
    "#1.4**元组**"
   ]
  },
  {
   "cell_type": "markdown",
   "id": "f58f9f24-5e9b-4b58-b2e0-e74cef1bd190",
   "metadata": {},
   "source": [
    "tuple 和 List 非常类似，但是 tuple 一旦初始化就不能修改。 也就是说元组（tuple）是不可变的，那么不可变是指什么意思呢？\n",
    "元组（tuple） 不可变是指当你创建了 tuple 时候，它就不能改变了，也就是说它也没有 append()，insert() 这样的方法，但它也有获取某个索引值的方法，但是不能赋值。\n",
    "那么为什么要有 tuple 呢？那是因为 tuple 是不可变的，所以代码更安全。所以建议能用 tuple 代替 list 就尽量用 tuple 。"
   ]
  },
  {
   "cell_type": "code",
   "execution_count": null,
   "id": "d8a426d8-a2b7-4dd3-a62f-4312bd9533a6",
   "metadata": {},
   "outputs": [],
   "source": [
    "tuple1=('你好','hello',123,True)"
   ]
  },
  {
   "cell_type": "code",
   "execution_count": null,
   "id": "83b2f5fe-704f-4e0e-ba4c-6cfa232ee2ad",
   "metadata": {},
   "outputs": [],
   "source": [
    "tuple2=(123,)#元组中只有一个元素，需要加一个逗号"
   ]
  },
  {
   "cell_type": "markdown",
   "id": "6e7ae6b0-1f86-4590-88a2-777dd0e09f99",
   "metadata": {},
   "source": [
    "元组的索引方式与列表一样，此处不再介绍"
   ]
  },
  {
   "cell_type": "code",
   "execution_count": null,
   "id": "98347e2f-e81c-4bb2-bdc8-ec7a779b042c",
   "metadata": {},
   "outputs": [],
   "source": [
    "list1=['你好','hello',123,True]\n",
    "tuple1=('两点水','twowater','liangdianshui',list1)\n",
    "list1[0]=789\n",
    "list1[1]=100"
   ]
  },
  {
   "cell_type": "markdown",
   "id": "c82d3a2d-6337-43e9-b63c-4d4d943496c7",
   "metadata": {},
   "source": [
    "![存储方式](存储方式.png)"
   ]
  },
  {
   "cell_type": "code",
   "execution_count": null,
   "id": "6e690baa-d601-48aa-9605-aa43d04545ba",
   "metadata": {},
   "outputs": [],
   "source": [
    "name1 = ('一点水', '两点水', '三点水', '四点水', '五点水')\n",
    "name2 = ('1点水', '2点水', '3点水', '4点水', '5点水')\n",
    "list1 = [1, 2, 3, 4, 5]\n",
    "# 计算元素个数\n",
    "print(len(name1))\n",
    "# 连接,两个元组相加\n",
    "print(name1 + name2)\n",
    "# 复制元组\n",
    "print(name1 * 2)\n",
    "# 元素是否存在 (name1 这个元组中是否含有一点水这个元素)\n",
    "print('一点水' in name1)\n",
    "# 元素的最大值\n",
    "print(max(name2))\n",
    "# 元素的最小值\n",
    "print(min(name2))\n",
    "# 将列表转换为元组\n",
    "print(tuple(list1))"
   ]
  },
  {
   "cell_type": "markdown",
   "id": "2cb67989-d90c-4edf-b092-c0d2567cd67e",
   "metadata": {},
   "source": [
    "[课程链接](https://github.com/walter201230/Python/tree/master/Article/PythonBasis/python0)"
   ]
  },
  {
   "cell_type": "markdown",
   "id": "3dafac83-c8f6-440b-9436-f26d11846113",
   "metadata": {},
   "source": [
    "#1.5**字典**"
   ]
  },
  {
   "cell_type": "markdown",
   "id": "a9833560-240e-44f5-b533-0f7aebcba9ea",
   "metadata": {},
   "source": [
    "字典是另一种可变容器模型，且可存储任意类型对象。\r\n",
    "字典的每个键值(key=>value)对用冒号(:)分割，每个对之间用逗号(,)分割，整个字典包括在花括号({})中 "
   ]
  },
  {
   "cell_type": "code",
   "execution_count": null,
   "id": "0b5678b7-d3da-491c-af14-4dadffd080a2",
   "metadata": {},
   "outputs": [],
   "source": [
    "dict1={'liangdianshui':'111111' ,'twowater':'222222' ,'两点水':'333333'}\n",
    "dict2={'abc':1234,1234:'abc'}"
   ]
  },
  {
   "cell_type": "markdown",
   "id": "6a28e1c9-0315-46e3-b0f7-901634089b4e",
   "metadata": {},
   "source": [
    "与列表元组的访问模式相似，可以通过索引键来访问字典的值"
   ]
  },
  {
   "cell_type": "code",
   "execution_count": null,
   "id": "9dae3e3c-ad42-46f0-ab8f-50629f135708",
   "metadata": {},
   "outputs": [],
   "source": [
    "name = {'一点水': '131456780001', '两点水': '131456780002', '三点水': '131456780003', '四点水': '131456780004', '五点水': '131456780005'}\n",
    "print(name['两点水'])"
   ]
  },
  {
   "cell_type": "markdown",
   "id": "045437dd-e524-4f72-bf5b-87309a975960",
   "metadata": {},
   "source": [
    "##1.5.1字典的修改"
   ]
  },
  {
   "cell_type": "code",
   "execution_count": null,
   "id": "063212d8-ee16-4b73-8da4-8c2fc42e01cf",
   "metadata": {},
   "outputs": [],
   "source": [
    "# 新增一个键值对\n",
    "dict1['jack']='444444'"
   ]
  },
  {
   "cell_type": "code",
   "execution_count": null,
   "id": "91b4dbde-0442-4f77-b88e-7182d1d648d7",
   "metadata": {},
   "outputs": [],
   "source": [
    "# 修改键值对\n",
    "dict1['liangdianshui']='555555'"
   ]
  },
  {
   "cell_type": "code",
   "execution_count": null,
   "id": "d743d219-2ad3-46df-8236-6d87cfadf320",
   "metadata": {},
   "outputs": [],
   "source": [
    "# 通过 key 值，删除对应的元素\n",
    "del dict1['twowater']"
   ]
  },
  {
   "cell_type": "markdown",
   "id": "5418de4e-6307-4501-8376-2c93d4a5b61b",
   "metadata": {},
   "source": [
    "##1.5.2字典使用时注意的事项"
   ]
  },
  {
   "cell_type": "markdown",
   "id": "4fd80773-fedd-40c2-b665-edd733e69177",
   "metadata": {},
   "source": [
    "(1) 字典是不允许一个键创建两次的，但是在创建 字典的时候如果出现了一个键值赋予了两次，会以最后一次赋予的值为准关系"
   ]
  },
  {
   "cell_type": "markdown",
   "id": "a0fbf114-6c76-46b8-b8d9-7bfce897b55d",
   "metadata": {},
   "source": [
    "(2) 字典键必须不可变，可是键可以用数字，字符串或元组充当，但是就是不能使用列表"
   ]
  },
  {
   "cell_type": "markdown",
   "id": "a7700589-51f4-43e0-bb85-cdfd6b271a0d",
   "metadata": {},
   "source": [
    "(3) 字典内部存放的顺序和键放入的顺序是没有任何关系"
   ]
  },
  {
   "cell_type": "markdown",
   "id": "705c7656-52d1-4f49-968e-eac5f7c53f68",
   "metadata": {},
   "source": [
    "##1.5.3字典的方法"
   ]
  },
  {
   "cell_type": "markdown",
   "id": "d61dbd72-fdd3-40ba-aa3b-c5ace9c994b1",
   "metadata": {},
   "source": [
    "![字典方法](字典方法.png)"
   ]
  },
  {
   "cell_type": "markdown",
   "id": "442595db-d079-4306-950d-981483830e6d",
   "metadata": {},
   "source": [
    "#1.6**分支结构与循环**"
   ]
  },
  {
   "cell_type": "markdown",
   "id": "384bc0fd-0b9b-4019-832d-420a24f9dbf3",
   "metadata": {},
   "source": [
    "##1.6.1分支"
   ]
  },
  {
   "cell_type": "markdown",
   "id": "7fee264c-998d-449b-8e7c-919a25afbd01",
   "metadata": {},
   "source": [
    "Python 中的分支结构大致可以分为三种：单分支 if\r\n",
    "语句、双分支 if...else 语句以及多分支 if...elif...else 语句。"
   ]
  },
  {
   "cell_type": "code",
   "execution_count": null,
   "id": "7adef57e-3ad5-481e-8e72-e672d7cd1790",
   "metadata": {},
   "outputs": [],
   "source": [
    "x = int(input('x = '))\n",
    "if x > 1:\n",
    "    y = 3 * x - 5\n",
    "print(y)"
   ]
  },
  {
   "cell_type": "code",
   "execution_count": 4,
   "id": "895dd044-ef46-4466-b46d-57ccbb5c7f88",
   "metadata": {},
   "outputs": [
    {
     "name": "stdin",
     "output_type": "stream",
     "text": [
      "x =  -8\n"
     ]
    },
    {
     "name": "stdout",
     "output_type": "stream",
     "text": [
      "-6\n"
     ]
    }
   ],
   "source": [
    "x = int(input('x = '))\n",
    "if x > 1:\n",
    "    y = 3 * x - 5\n",
    "else:\n",
    "    y = x + 2\n",
    "print(y)"
   ]
  },
  {
   "cell_type": "code",
   "execution_count": 3,
   "id": "49cd21b0-ed53-4ff7-b465-c4198861226a",
   "metadata": {},
   "outputs": [
    {
     "name": "stdin",
     "output_type": "stream",
     "text": [
      "x =  0\n"
     ]
    },
    {
     "name": "stdout",
     "output_type": "stream",
     "text": [
      "2\n"
     ]
    }
   ],
   "source": [
    "x = int(input('x = '))\n",
    "if x > 1:\n",
    "    y = 3 * x - 5\n",
    "else:\n",
    "    if x >= -1:\n",
    "        y = x + 2\n",
    "    else:\n",
    "        y = 5 * x + 3\n",
    "print(y)"
   ]
  },
  {
   "cell_type": "markdown",
   "id": "a97c8902-970c-491a-be38-4d26f14bd339",
   "metadata": {},
   "source": [
    "##1.6.2循环"
   ]
  },
  {
   "cell_type": "markdown",
   "id": "a09617ae-37ea-4228-8106-2591d7ec2133",
   "metadata": {},
   "source": [
    "循环结构就是程序中控制某条或某些指令重复执行的结构。在Python中构造循环结构有两种做法，一种是for-in循环，一种是while循环。"
   ]
  },
  {
   "cell_type": "code",
   "execution_count": 7,
   "id": "f4c1687e-1680-4680-a0aa-8230ce69e335",
   "metadata": {},
   "outputs": [
    {
     "name": "stdout",
     "output_type": "stream",
     "text": [
      "5050\n"
     ]
    }
   ],
   "source": [
    "sum = 0\n",
    "for x in range(101):\n",
    "    sum += x\n",
    "print(sum)"
   ]
  },
  {
   "cell_type": "markdown",
   "id": "dd33075b-d26c-40bd-abb8-85e055f1240a",
   "metadata": {},
   "source": [
    "![range用法](range用法.png)"
   ]
  },
  {
   "cell_type": "code",
   "execution_count": 10,
   "id": "fec57542-3883-4a53-9d82-a4e969dbc81f",
   "metadata": {},
   "outputs": [
    {
     "name": "stdout",
     "output_type": "stream",
     "text": [
      "1\n",
      "2\n",
      "3\n",
      "4\n",
      "5\n"
     ]
    }
   ],
   "source": [
    "num = 1\n",
    "while num <= 5:\n",
    "    print(num)\n",
    "    num += 1"
   ]
  }
 ],
 "metadata": {
  "kernelspec": {
   "display_name": "Python 3 (ipykernel)",
   "language": "python",
   "name": "python3"
  },
  "language_info": {
   "codemirror_mode": {
    "name": "ipython",
    "version": 3
   },
   "file_extension": ".py",
   "mimetype": "text/x-python",
   "name": "python",
   "nbconvert_exporter": "python",
   "pygments_lexer": "ipython3",
   "version": "3.11.1"
  }
 },
 "nbformat": 4,
 "nbformat_minor": 5
}
