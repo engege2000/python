{
 "cells": [
  {
   "cell_type": "code",
   "execution_count": 14,
   "id": "1bac39dd-87e0-454a-b930-e6db648d890c",
   "metadata": {},
   "outputs": [],
   "source": [
    "# 导入pandas库\n",
    "import pandas as pd"
   ]
  },
  {
   "cell_type": "code",
   "execution_count": 15,
   "id": "6e85de46-1121-4197-ac76-275d022fd9c6",
   "metadata": {},
   "outputs": [],
   "source": [
    "# 读取Q文件，将第一行作为列名\n",
    "df = pd.read_excel(\"Systems Net Demand 13wks-MS2407B0 Q3'24&Q4'24-20240112-Prelim.xlsx\", header=0)"
   ]
  },
  {
   "cell_type": "code",
   "execution_count": 16,
   "id": "ddf51d2a-3d84-4a18-818c-bb0f798f317c",
   "metadata": {},
   "outputs": [],
   "source": [
    "# 删除第2行到第5行，即索引为0到3的行\n",
    "df = df.drop(index=[0, 1, 2, 3])"
   ]
  },
  {
   "cell_type": "code",
   "execution_count": 17,
   "id": "02c85ead-8c62-45dd-a328-ae90a3f38da5",
   "metadata": {},
   "outputs": [],
   "source": [
    "# 删除第一列\n",
    "df = df.drop(df.columns[0],axis=1)"
   ]
  },
  {
   "cell_type": "code",
   "execution_count": 18,
   "id": "b20b0d30-a6c4-4c0e-bcd0-dec9425fd3b6",
   "metadata": {},
   "outputs": [],
   "source": [
    "# 将第一行替换为列名，即将索引为4的行的值赋给columns属性\n",
    "df.columns = df.loc[4]"
   ]
  },
  {
   "cell_type": "code",
   "execution_count": 19,
   "id": "4f67feec-6008-4d45-a519-a4ada558ac3e",
   "metadata": {},
   "outputs": [],
   "source": [
    "# 删除第2行和第3行，即索引为4和5的行\n",
    "df = df.drop(index=[4, 5,6])"
   ]
  },
  {
   "cell_type": "code",
   "execution_count": 20,
   "id": "0a24b116-4d72-462d-a84c-8cde38ff963f",
   "metadata": {},
   "outputs": [],
   "source": [
    "# 将索引重置为从0开始的整数\n",
    "df = df.reset_index(drop=True)\n",
    "cols=['FAMILY']+[i for i in range(27,53)]\n",
    "df=df.loc[:,cols]"
   ]
  },
  {
   "cell_type": "code",
   "execution_count": 21,
   "id": "e387da7f-37cb-410f-83b0-0bbaab104934",
   "metadata": {},
   "outputs": [],
   "source": [
    "# 将数据框转换为CSV文件，并保存到当前目录下，文件名为\"Q.csv\"\n",
    "df.to_csv(\"SND13.csv\", index=False)"
   ]
  },
  {
   "cell_type": "code",
   "execution_count": 22,
   "id": "c32f9633-c3d5-424a-8fca-24d1b9a42276",
   "metadata": {},
   "outputs": [],
   "source": [
    "# 读取Q文件，将第一行作为列名\n",
    "df = pd.read_csv('SND13.csv',header=None)"
   ]
  },
  {
   "cell_type": "code",
   "execution_count": 23,
   "id": "6edffdd9-50a3-45f7-a7ce-1b22459e238e",
   "metadata": {},
   "outputs": [],
   "source": [
    "# 删除第一列，即索引为0的列\n",
    "df = df.drop(df.columns[0], axis=1)"
   ]
  },
  {
   "cell_type": "code",
   "execution_count": 24,
   "id": "f18aacc4-307d-4874-9270-da2c3149d923",
   "metadata": {},
   "outputs": [],
   "source": [
    "# 将第一行作为列名，即将索引为0的行的值赋给columns属性\n",
    "df.columns = df.loc[0]"
   ]
  },
  {
   "cell_type": "code",
   "execution_count": 25,
   "id": "3ebd1338-b479-4249-ba45-ae1fbf1c8f23",
   "metadata": {},
   "outputs": [],
   "source": [
    "# 删除第一行，即索引为0的行\n",
    "df = df.drop(index=0)"
   ]
  },
  {
   "cell_type": "code",
   "execution_count": 26,
   "id": "111aa977-dff5-47c1-8c8c-2e728c6417c6",
   "metadata": {},
   "outputs": [],
   "source": [
    "# 将索引重置为从0开始的整数\n",
    "df = df.reset_index(drop=True)"
   ]
  },
  {
   "cell_type": "code",
   "execution_count": 27,
   "id": "90deb235-9811-4d64-b285-5c4e908cf664",
   "metadata": {},
   "outputs": [],
   "source": [
    "#修改列名\n",
    "df=df.rename(columns={'FAMILY':'PN'})"
   ]
  },
  {
   "cell_type": "code",
   "execution_count": 29,
   "id": "f68e8b6f-dd32-426c-b463-02a62932e512",
   "metadata": {},
   "outputs": [],
   "source": [
    "# 将数据框转换为CSV文件，并保存到当前目录下，文件名为\"F_new.csv\"\n",
    "df.to_csv(\"SND13.csv\", index=False)"
   ]
  },
  {
   "cell_type": "code",
   "execution_count": null,
   "id": "9bd73e22-29d9-4529-badc-f0d3294e9b65",
   "metadata": {},
   "outputs": [],
   "source": []
  }
 ],
 "metadata": {
  "kernelspec": {
   "display_name": "Python 3 (ipykernel)",
   "language": "python",
   "name": "python3"
  },
  "language_info": {
   "codemirror_mode": {
    "name": "ipython",
    "version": 3
   },
   "file_extension": ".py",
   "mimetype": "text/x-python",
   "name": "python",
   "nbconvert_exporter": "python",
   "pygments_lexer": "ipython3",
   "version": "3.11.1"
  }
 },
 "nbformat": 4,
 "nbformat_minor": 5
}
